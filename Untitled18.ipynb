{
  "nbformat": 4,
  "nbformat_minor": 0,
  "metadata": {
    "colab": {
      "provenance": []
    },
    "kernelspec": {
      "name": "python3",
      "display_name": "Python 3"
    },
    "language_info": {
      "name": "python"
    }
  },
  "cells": [
    {
      "cell_type": "code",
      "execution_count": null,
      "metadata": {
        "id": "XURNoHJwoUOE"
      },
      "outputs": [],
      "source": []
    },
    {
      "cell_type": "code",
      "source": [
        "# Define the language model probabilities\n",
        "language_model = {\n",
        "    \"cat\": 0.5,\n",
        "    \"car\": 0.3,\n",
        "    \"bat\": 0.2\n",
        "}\n",
        "\n",
        "# Define the error model probabilities\n",
        "error_model = {\n",
        "    (\"cat\", \"caat\"): 0.4,\n",
        "    (\"car\", \"caat\"): 0.1,\n",
        "    (\"bat\", \"caat\"): 0.05\n",
        "}\n",
        "\n",
        "# Observed word\n",
        "observed_word = \"caat\"\n",
        "\n",
        "# Calculate posterior probabilities for each candidate word\n",
        "posterior_probabilities = {}\n",
        "\n",
        "for word in language_model:\n",
        "    prior = language_model[word]\n",
        "    likelihood = error_model.get((word, observed_word), 0)  # Get P(o|w), default to 0 if missing\n",
        "    posterior_probabilities[word] = prior * likelihood\n",
        "\n",
        "# Find the word with the highest posterior probability\n",
        "corrected_word = max(posterior_probabilities, key=posterior_probabilities.get)\n",
        "\n",
        "# Output the results\n",
        "print(\"Posterior Probabilities:\", posterior_probabilities)\n",
        "print(\"Corrected Word:\", corrected_word)\n"
      ],
      "metadata": {
        "colab": {
          "base_uri": "https://localhost:8080/"
        },
        "id": "_ugcus2MozoG",
        "outputId": "5a262304-92bd-4088-a94a-7bd48e2dc843"
      },
      "execution_count": null,
      "outputs": [
        {
          "output_type": "stream",
          "name": "stdout",
          "text": [
            "Posterior Probabilities: {'cat': 0.2, 'car': 0.03, 'bat': 0.010000000000000002}\n",
            "Corrected Word: cat\n"
          ]
        }
      ]
    },
    {
      "cell_type": "markdown",
      "source": [],
      "metadata": {
        "id": "I5EtsaInsTAW"
      }
    },
    {
      "cell_type": "code",
      "source": [
        "import string\n",
        "\n",
        "def generate_candidates(word):\n",
        "    \"\"\"\n",
        "    Generate candidate words with edit distance 0 or 1 from the given word.\n",
        "    Edit operations include: deletion, insertion, substitution, and transposition.\n",
        "    \"\"\"\n",
        "    letters = string.ascii_lowercase\n",
        "    candidates = set()\n",
        "\n",
        "    # Edit distance 0 (the original word)\n",
        "    candidates.add(word)\n",
        "\n",
        "    # Edit distance 1\n",
        "    # 1. Deletions: Remove one character\n",
        "    for i in range(len(word)):\n",
        "        candidates.add(word[:i] + word[i+1:])\n",
        "\n",
        "    # 2. Insertions: Add one character in every possible position\n",
        "    for i in range(len(word) + 1):\n",
        "        for letter in letters:\n",
        "            candidates.add(word[:i] + letter + word[i:])\n",
        "\n",
        "    # 3. Substitutions: Replace each character with another character\n",
        "    for i in range(len(word)):\n",
        "        for letter in letters:\n",
        "            if word[i] != letter:  # Avoid replacing with the same letter\n",
        "                candidates.add(word[:i] + letter + word[i+1:])\n",
        "\n",
        "    # 4. Transpositions: Swap adjacent characters\n",
        "    for i in range(len(word) - 1):\n",
        "        candidates.add(word[:i] + word[i+1] + word[i] + word[i+2:])\n",
        "\n",
        "    return candidates\n",
        "\n",
        "\n",
        "# Example usage\n",
        "word = \"caat\"\n",
        "candidates = generate_candidates(word)\n",
        "\n",
        "print(f\"Original word: {word}\")\n",
        "print(f\"Generated candidates (edit distance 0 or 1):\")\n",
        "print(candidates)\n"
      ],
      "metadata": {
        "id": "ZoBGq_8tsTf4",
        "outputId": "e2200c5a-bd22-48b5-b18b-51674b03b067",
        "colab": {
          "base_uri": "https://localhost:8080/"
        }
      },
      "execution_count": null,
      "outputs": [
        {
          "output_type": "stream",
          "name": "stdout",
          "text": [
            "Original word: caat\n",
            "Generated candidates (edit distance 0 or 1):\n",
            "{'cabat', 'cavat', 'cwaat', 'caoat', 'caast', 'kaat', 'caait', 'taat', 'cagt', 'caxat', 'czaat', 'capat', 'caagt', 'caant', 'cacat', 'cuaat', 'caabt', 'jaat', 'xaat', 'czat', 'cabt', 'caam', 'paat', 'ceaat', 'calat', 'caato', 'craat', 'cait', 'cayt', 'cyaat', 'caaat', 'cdaat', 'zaat', 'caats', 'caft', 'caao', 'coaat', 'calt', 'caaet', 'fcaat', 'caay', 'caawt', 'ctat', 'ecaat', 'caht', 'waat', 'naat', 'cakat', 'scaat', 'dcaat', 'caatx', 'vaat', 'caat', 'cfaat', 'gaat', 'acat', 'caatu', 'cqaat', 'cayat', 'cyat', 'caaut', 'laat', 'cvat', 'caab', 'caag', 'camat', 'maat', 'caact', 'cahat', 'oaat', 'caaa', 'caaj', 'icaat', 'caatf', 'cawt', 'cnat', 'vcaat', 'caa', 'caart', 'cvaat', 'caatg', 'acaat', 'caatm', 'caamt', 'caatj', 'lcaat', 'raat', 'caqat', 'rcaat', 'cnaat', 'catat', 'caatv', 'cajat', 'gcaat', 'cuat', 'cazat', 'cafat', 'aaat', 'cgat', 'cmat', 'cast', 'ncaat', 'ccat', 'caeat', 'ycaat', 'caapt', 'caatn', 'caas', 'ckat', 'cact', 'ctaat', 'caaf', 'cata', 'cadt', 'cfat', 'aat', 'caatr', 'cakt', 'caac', 'caau', 'cxaat', 'caakt', 'caaw', 'cauat', 'caazt', 'caath', 'caajt', 'caatt', 'caatd', 'claat', 'caaz', 'cagat', 'cant', 'jcaat', 'cmaat', 'baat', 'haat', 'caatb', 'caqt', 'caaq', 'xcaat', 'caax', 'bcaat', 'caayt', 'cadat', 'csaat', 'caadt', 'coat', 'cavt', 'caak', 'cbaat', 'cpaat', 'caaft', 'caatc', 'caatk', 'crat', 'cxat', 'caatw', 'hcaat', 'cjaat', 'chat', 'saat', 'ocaat', 'ciat', 'caet', 'catt', 'kcaat', 'cawat', 'cjat', 'wcaat', 'cat', 'caalt', 'zcaat', 'cdat', 'caate', 'ceat', 'caot', 'uaat', 'clat', 'iaat', 'cajt', 'yaat', 'cpat', 'caai', 'cazt', 'caatl', 'caan', 'caaty', 'cwat', 'mcaat', 'carat', 'caal', 'daat', 'faat', 'caut', 'cgaat', 'caae', 'tcaat', 'camt', 'cart', 'cbat', 'chaat', 'caaht', 'ccaat', 'caaot', 'caatp', 'caatz', 'cqat', 'caap', 'caav', 'qaat', 'caiat', 'caatq', 'caah', 'caaqt', 'caar', 'caad', 'pcaat', 'csat', 'casat', 'capt', 'caavt', 'caati', 'caata', 'caxt', 'ucaat', 'ciaat', 'caaxt', 'eaat', 'canat', 'ckaat', 'qcaat'}\n"
          ]
        }
      ]
    }
  ]
}